{
  "nbformat": 4,
  "nbformat_minor": 0,
  "metadata": {
    "colab": {
      "provenance": []
    },
    "kernelspec": {
      "name": "python3",
      "display_name": "Python 3"
    },
    "language_info": {
      "name": "python"
    }
  },
  "cells": [
    {
      "cell_type": "code",
      "source": [
        "# Importing necessary libraries\n",
        "import numpy as np\n",
        "from sklearn.datasets import load_wine  # Change the import to load_wine\n",
        "from sklearn.model_selection import train_test_split\n",
        "from sklearn.linear_model import LogisticRegression\n",
        "from sklearn.metrics import accuracy_score\n",
        "import time\n",
        "\n",
        "import warnings\n",
        "\n",
        "# To ignore all warnings\n",
        "warnings.filterwarnings(\"ignore\")\n",
        "\n",
        "# Load dataset (Wine dataset)\n",
        "wine = load_wine()  # Load Wine dataset"
      ],
      "metadata": {
        "id": "25RUAg9RBS5q"
      },
      "execution_count": null,
      "outputs": []
    },
    {
      "cell_type": "code",
      "source": [
        "# Print the feature names (column names)\n",
        "print(\"Feature names:\")\n",
        "print(wine.feature_names)"
      ],
      "metadata": {
        "colab": {
          "base_uri": "https://localhost:8080/"
        },
        "id": "iqu0HJ46BUhO",
        "outputId": "a695bd0b-117c-4de0-faf2-b63c585d25d8"
      },
      "execution_count": null,
      "outputs": [
        {
          "output_type": "stream",
          "name": "stdout",
          "text": [
            "Feature names:\n",
            "['alcohol', 'malic_acid', 'ash', 'alcalinity_of_ash', 'magnesium', 'total_phenols', 'flavanoids', 'nonflavanoid_phenols', 'proanthocyanins', 'color_intensity', 'hue', 'od280/od315_of_diluted_wines', 'proline']\n"
          ]
        }
      ]
    },
    {
      "cell_type": "code",
      "execution_count": null,
      "metadata": {
        "colab": {
          "base_uri": "https://localhost:8080/"
        },
        "id": "HpGrdbnImsxz",
        "outputId": "f41c0f56-4f22-4364-9f9e-e4ec67806d5b"
      },
      "outputs": [
        {
          "output_type": "stream",
          "name": "stdout",
          "text": [
            "Stochastic Gradient Descent (SGD) results:\n",
            "Training Time: 0.06577825546264648 seconds\n",
            "Accuracy: 0.8888888888888888\n",
            "\n",
            "Batch Gradient Descent (BGD) results:\n",
            "Training Time: 0.10172677040100098 seconds\n",
            "Accuracy: 0.9722222222222222\n"
          ]
        }
      ],
      "source": [
        "X = wine.data  # Features\n",
        "y = wine.target  # Target labels\n",
        "\n",
        "# Split data into training and testing sets\n",
        "X_train, X_test, y_train, y_test = train_test_split(X, y, test_size=0.2, random_state=42)\n",
        "\n",
        "# Define Logistic Regression models with different optimization algorithms\n",
        "sgd_model = LogisticRegression(solver='sag', penalty='none', max_iter=1000, random_state=42, tol=1e-4)\n",
        "bgd_model = LogisticRegression(solver='lbfgs', penalty='none', max_iter=1000, random_state=42, tol=1e-4)\n",
        "\n",
        "# Train SGD model\n",
        "start_time = time.time()\n",
        "sgd_model.fit(X_train, y_train)\n",
        "sgd_train_time = time.time() - start_time\n",
        "\n",
        "# Train BGD model\n",
        "start_time = time.time()\n",
        "bgd_model.fit(X_train, y_train)\n",
        "bgd_train_time = time.time() - start_time\n",
        "\n",
        "# Predictions\n",
        "sgd_pred = sgd_model.predict(X_test)\n",
        "bgd_pred = bgd_model.predict(X_test)\n",
        "\n",
        "# Calculate accuracy\n",
        "sgd_accuracy = accuracy_score(y_test, sgd_pred)\n",
        "bgd_accuracy = accuracy_score(y_test, bgd_pred)\n",
        "\n",
        "# Print results\n",
        "print(\"Stochastic Gradient Descent (SGD) results:\")\n",
        "print(\"Training Time:\", sgd_train_time, \"seconds\")\n",
        "print(\"Accuracy:\", sgd_accuracy)\n",
        "\n",
        "print(\"\\nBatch Gradient Descent (BGD) results:\")\n",
        "print(\"Training Time:\", bgd_train_time, \"seconds\")\n",
        "print(\"Accuracy:\", bgd_accuracy)\n"
      ]
    },
    {
      "cell_type": "code",
      "source": [
        "# Load dataset (Wine dataset)\n",
        "wine = load_wine()\n",
        "X = wine.data  # Features\n",
        "y = wine.target  # Target labels\n",
        "\n",
        "# Split data into training and testing sets\n",
        "X_train, X_test, y_train, y_test = train_test_split(X, y, test_size=0.2, random_state=42)\n",
        "\n",
        "# Initialize SGD Classifier models with different regularization methods\n",
        "l1_model = SGDClassifier(loss='log', penalty='l1', max_iter=1000, random_state=42, tol=1e-4)\n",
        "l2_model = SGDClassifier(loss='log', penalty='l2', max_iter=1000, random_state=42, tol=1e-4)\n",
        "elasticnet_model = SGDClassifier(loss='log', penalty='elasticnet', max_iter=1000, random_state=42, tol=1e-4, l1_ratio=0.5)\n",
        "\n",
        "# Train L1 model\n",
        "start_time = time.time()\n",
        "l1_model.fit(X_train, y_train)\n",
        "l1_train_time = time.time() - start_time\n",
        "\n",
        "# Train L2 model\n",
        "start_time = time.time()\n",
        "l2_model.fit(X_train, y_train)\n",
        "l2_train_time = time.time() - start_time\n",
        "\n",
        "# Train Elastic Net model\n",
        "start_time = time.time()\n",
        "elasticnet_model.fit(X_train, y_train)\n",
        "elasticnet_train_time = time.time() - start_time\n",
        "\n",
        "# Predictions\n",
        "l1_pred = l1_model.predict(X_test)\n",
        "l2_pred = l2_model.predict(X_test)\n",
        "elasticnet_pred = elasticnet_model.predict(X_test)\n",
        "\n",
        "# Calculate accuracies\n",
        "l1_accuracy = accuracy_score(y_test, l1_pred)\n",
        "l2_accuracy = accuracy_score(y_test, l2_pred)\n",
        "elasticnet_accuracy = accuracy_score(y_test, elasticnet_pred)\n",
        "\n",
        "# Print results\n",
        "print(\"SGD with L1 Regularization Method:\")\n",
        "print(\"Accuracy:\", l1_accuracy)\n",
        "print(\"Training Time:\", l1_train_time, \"seconds\")\n",
        "\n",
        "print(\"\\nSGD with L2 Regularization Method:\")\n",
        "print(\"Accuracy:\", l2_accuracy)\n",
        "print(\"Training Time:\", l2_train_time, \"seconds\")\n",
        "\n",
        "print(\"\\nSGD with Elastic Net Regularization Method:\")\n",
        "print(\"Accuracy:\", elasticnet_accuracy)\n",
        "print(\"Training Time:\", elasticnet_train_time, \"seconds\")"
      ],
      "metadata": {
        "colab": {
          "base_uri": "https://localhost:8080/"
        },
        "id": "7bD6Nto2Am5I",
        "outputId": "f411b12f-b040-4bcd-e66a-b016dd151308"
      },
      "execution_count": null,
      "outputs": [
        {
          "output_type": "stream",
          "name": "stdout",
          "text": [
            "SGD with L1 Regularization Method:\n",
            "Accuracy: 0.6388888888888888\n",
            "Training Time: 0.0054225921630859375 seconds\n",
            "\n",
            "SGD with L2 Regularization Method:\n",
            "Accuracy: 0.5555555555555556\n",
            "Training Time: 0.0038459300994873047 seconds\n",
            "\n",
            "SGD with Elastic Net Regularization Method:\n",
            "Accuracy: 0.6111111111111112\n",
            "Training Time: 0.004467964172363281 seconds\n"
          ]
        }
      ]
    },
    {
      "cell_type": "code",
      "source": [
        "# Initialize Logistic Regression models with different regularization methods\n",
        "l1_model = LogisticRegression(solver='saga', penalty='l1', max_iter=1000, random_state=42, tol=1e-4)\n",
        "l2_model = LogisticRegression(solver='saga', penalty='l2', max_iter=1000, random_state=42, tol=1e-4)\n",
        "elasticnet_model = LogisticRegression(solver='saga', penalty='elasticnet', l1_ratio=0.5, max_iter=1000, random_state=42, tol=1e-4)\n",
        "\n",
        "# Train L1 model\n",
        "start_time = time.time()\n",
        "l1_model.fit(X_train, y_train)\n",
        "l1_train_time = time.time() - start_time\n",
        "\n",
        "# Train L2 model\n",
        "start_time = time.time()\n",
        "l2_model.fit(X_train, y_train)\n",
        "l2_train_time = time.time() - start_time\n",
        "\n",
        "# Train Elastic Net model\n",
        "start_time = time.time()\n",
        "elasticnet_model.fit(X_train, y_train)\n",
        "elasticnet_train_time = time.time() - start_time\n",
        "\n",
        "# Predictions\n",
        "l1_pred = l1_model.predict(X_test)\n",
        "l2_pred = l2_model.predict(X_test)\n",
        "elasticnet_pred = elasticnet_model.predict(X_test)\n",
        "\n",
        "# Calculate accuracies\n",
        "l1_accuracy = accuracy_score(y_test, l1_pred)\n",
        "l2_accuracy = accuracy_score(y_test, l2_pred)\n",
        "elasticnet_accuracy = accuracy_score(y_test, elasticnet_pred)\n",
        "\n",
        "# Print results\n",
        "print(\"BGD With L1 Regularization Method:\")\n",
        "print(\"Accuracy:\", l1_accuracy)\n",
        "print(\"Training Time:\", l1_train_time, \"seconds\")\n",
        "\n",
        "print(\"\\nBGD With L2 Regularization Method:\")\n",
        "print(\"Accuracy:\", l2_accuracy)\n",
        "print(\"Training Time:\", l2_train_time, \"seconds\")\n",
        "\n",
        "print(\"\\nBGD With Elastic Net Regularization Method:\")\n",
        "print(\"Accuracy:\", elasticnet_accuracy)\n",
        "print(\"Training Time:\", elasticnet_train_time, \"seconds\")"
      ],
      "metadata": {
        "colab": {
          "base_uri": "https://localhost:8080/"
        },
        "id": "NISodCR2AVpZ",
        "outputId": "98bd48a2-5002-43d3-9696-a2abc887bd1e"
      },
      "execution_count": null,
      "outputs": [
        {
          "output_type": "stream",
          "name": "stdout",
          "text": [
            "BGD With L1 Regularization Method:\n",
            "Accuracy: 0.8611111111111112\n",
            "Training Time: 0.10972952842712402 seconds\n",
            "\n",
            "BGD With L2 Regularization Method:\n",
            "Accuracy: 0.8611111111111112\n",
            "Training Time: 0.06765913963317871 seconds\n",
            "\n",
            "BGD With Elastic Net Regularization Method:\n",
            "Accuracy: 0.8611111111111112\n",
            "Training Time: 0.09032797813415527 seconds\n"
          ]
        }
      ]
    },
    {
      "cell_type": "markdown",
      "source": [
        "**Analysis:**\n",
        "\n",
        "*   BGD consistently achieves higher accuracy (0.861) across all regularization methods (L1, L2, and elastic net).While SGD demonstrates lower accuracy (around 0.6) but with faster training times.\n",
        "*   Regularization methods (L1, L2, and elastic net) effectively prevent overfitting and improve generalization performance.While BGD with all regularization methods achieves similar high accuracy (0.861), indicating the effectiveness of regularization.\n",
        "*   BGD requires longer training times compared to SGD due to its batch processing nature. While SGD provides faster training but with slightly lower accuracy compared to BGD.\n",
        "*   Overall, BGD offers highest accuracy at the expense of longer training times.SGD provides faster training but with slightly lower accuracy.\n",
        "Regularization plays a crucial role in improving generalization performance across both BGD and SGD methods."
      ],
      "metadata": {
        "id": "t1XpEJ-24Ae3"
      }
    },
    {
      "cell_type": "code",
      "source": [
        "import numpy as np\n",
        "import matplotlib.pyplot as plt\n",
        "from sklearn.datasets import load_wine\n",
        "from sklearn.model_selection import train_test_split\n",
        "from sklearn.linear_model import SGDClassifier, LogisticRegression\n",
        "from sklearn.metrics import accuracy_score\n",
        "\n",
        "# Load dataset (Wine dataset)\n",
        "wine = load_wine()\n",
        "X = wine.data  # Features\n",
        "y = wine.target  # Target labels\n",
        "\n",
        "# Initialize lists to store training sizes and accuracies\n",
        "training_sizes = np.linspace(0.1, 0.9, 9)  # Adjusted to avoid zero test size\n",
        "sgd_accuracies = []\n",
        "bgd_accuracies = []\n",
        "\n",
        "# Iterate over different training sizes\n",
        "for size in training_sizes:\n",
        "    # Split data into training and testing sets\n",
        "    X_train, X_test, y_train, y_test = train_test_split(X, y, test_size=1.0 - size, random_state=42)\n",
        "\n",
        "    # Train SGD model\n",
        "    sgd_model = SGDClassifier(loss='log', max_iter=1000, random_state=42, tol=1e-4)\n",
        "    sgd_model.fit(X_train, y_train)\n",
        "    sgd_pred = sgd_model.predict(X_test)\n",
        "    sgd_accuracy = accuracy_score(y_test, sgd_pred)\n",
        "    sgd_accuracies.append(sgd_accuracy)\n",
        "\n",
        "    # Train BGD model\n",
        "    bgd_model = LogisticRegression(solver='saga', max_iter=1000, random_state=42, tol=1e-4)\n",
        "    bgd_model.fit(X_train, y_train)\n",
        "    bgd_pred = bgd_model.predict(X_test)\n",
        "    bgd_accuracy = accuracy_score(y_test, bgd_pred)\n",
        "    bgd_accuracies.append(bgd_accuracy)\n",
        "\n",
        "# Plot learning curves\n",
        "plt.figure(figsize=(10, 6))\n",
        "plt.plot(training_sizes, sgd_accuracies, label='SGD', marker='o')\n",
        "plt.plot(training_sizes, bgd_accuracies, label='BGD', marker='s')\n",
        "plt.title('Learning Curves: Accuracy vs. Training Set Size')\n",
        "plt.xlabel('Training Set Size')\n",
        "plt.ylabel('Accuracy')\n",
        "plt.legend()\n",
        "plt.grid(True)\n",
        "plt.show()"
      ],
      "metadata": {
        "colab": {
          "base_uri": "https://localhost:8080/",
          "height": 564
        },
        "id": "W_kUWBTS4a5r",
        "outputId": "4530e17c-c141-4170-a2ba-7a8dd577b490"
      },
      "execution_count": null,
      "outputs": [
        {
          "output_type": "display_data",
          "data": {
            "text/plain": [
              "<Figure size 1000x600 with 1 Axes>"
            ],
            "image/png": "[encoded data removed]"
          },
          "metadata": {}
        }
      ]
    },
    {
      "cell_type": "markdown",
      "source": [
        "**Analysis:**\n",
        "\n",
        "* For the Batch Gradient Descent (BGD) method, accuracy goes up as we add more training data, reaching its highest point when we have about 80% of the data for training. But after that, adding more data doesn't help much, and accuracy starts to go down a bit.\n",
        "\n",
        "* On the other hand, with the Stochastic Gradient Descent (SGD) method, accuracy goes down at first as we add more data, but it starts to increase after reaching 70% training set size.\n",
        "\n",
        "* So, with BGD, having more data helps up to a point, but then it doesn't make much difference. With SGD, adding more data doesn't seem to improve accuracy much, and it may even start to decrease.\n",
        "\n"
      ],
      "metadata": {
        "id": "nEJz-x_-61nR"
      }
    },
    {
      "cell_type": "code",
      "source": [
        "import numpy as np\n",
        "from sklearn.datasets import load_wine\n",
        "\n",
        "# Load dataset (Wine dataset)\n",
        "wine = load_wine()\n",
        "X = wine.data  # Features\n",
        "y = wine.target  # Target labels\n",
        "\n",
        "# Count the number of samples in each class\n",
        "class_counts = np.bincount(y)\n",
        "total_samples = len(y)\n",
        "\n",
        "# Calculate class distribution\n",
        "class_distribution = class_counts / total_samples\n",
        "\n",
        "print(\"Class Distribution:\")\n",
        "for i, count in enumerate(class_counts):\n",
        "    print(f\"Class {i}: {count} samples ({class_distribution[i]:.2%} of total)\")"
      ],
      "metadata": {
        "colab": {
          "base_uri": "https://localhost:8080/"
        },
        "id": "YTw-H-qK594n",
        "outputId": "023ec54a-91f3-453d-e79c-e5ebd974c77a"
      },
      "execution_count": null,
      "outputs": [
        {
          "output_type": "stream",
          "name": "stdout",
          "text": [
            "Class Distribution:\n",
            "Class 0: 59 samples (33.15% of total)\n",
            "Class 1: 71 samples (39.89% of total)\n",
            "Class 2: 48 samples (26.97% of total)\n"
          ]
        }
      ]
    },
    {
      "cell_type": "markdown",
      "source": [
        "With a relatively equal distribution among the different wine datset classes, accuracy seems appropriate for evaluating model performance in this dataset. Accuracy tells us how often the model correctly predicts the class of the wine. Since each type of wine is represented fairly evenly in the dataset, accuracy can give us a good idea of how well the model performs overall. However, it's important to remember that accuracy might not tell the whole if some types of wine are much rarer than others. In those cases, other measures like precision, recall, or F1-score could provide additional insights into how well the model is doing for each type of wine."
      ],
      "metadata": {
        "id": "Iqygm-fU-u0c"
      }
    }
  ]
}